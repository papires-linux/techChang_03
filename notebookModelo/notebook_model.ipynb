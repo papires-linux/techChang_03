{
  "cells": [
    {
      "cell_type": "markdown",
      "metadata": {
        "id": "ZSDJkA8Xr4ri"
      },
      "source": [
        "## Analise de dados de vendas de carros da BMW"
      ]
    },
    {
      "cell_type": "markdown",
      "metadata": {
        "id": "h2HpL7wRr4rk"
      },
      "source": [
        "## Descrição:\n",
        "\n",
        "Dados de vendas da BMW que contém registros detalhados das vendas de carros da marca, oferecendo informações valiosas sobre o desempenho de vendas, preferências dos clientes e tendências do mercado. Este conjunto de dados é essencial para analisar padrões de vendas, prever a demanda, avaliar a popularidade de diferentes modelos e apoiar estratégias empresariais no setor automotivo."
      ]
    },
    {
      "cell_type": "code",
      "execution_count": null,
      "metadata": {
        "id": "QwrEbFsur4rk"
      },
      "outputs": [],
      "source": [
        "import pandas as pd\n",
        "import seaborn as sns\n",
        "import matplotlib.pyplot as plt\n",
        "import warnings\n",
        "\n",
        "warnings.filterwarnings(\"ignore\")"
      ]
    },
    {
      "cell_type": "markdown",
      "metadata": {
        "id": "mtNbSFj_r4rk"
      },
      "source": [
        "\n",
        "## Coletando dados"
      ]
    },
    {
      "cell_type": "code",
      "execution_count": null,
      "metadata": {
        "id": "vHIPwP6I-S_K"
      },
      "outputs": [],
      "source": [
        "project_id = 'fiap-tc03'\n",
        "dataset_id = 'vendas'\n",
        "tabela_name= 'tb_vendas'"
      ]
    },
    {
      "cell_type": "code",
      "execution_count": null,
      "metadata": {
        "id": "5zTdUZcVr4rk"
      },
      "outputs": [],
      "source": [
        "df_raw = pd.read_gbq(f\"SELECT * FROM {dataset_id}.{tabela_name}\", project_id=project_id, dialect='standard')"
      ]
    },
    {
      "cell_type": "code",
      "execution_count": null,
      "metadata": {
        "execution": {
          "iopub.execute_input": "2025-09-05T18:12:45.39653Z",
          "iopub.status.busy": "2025-09-05T18:12:45.395971Z",
          "iopub.status.idle": "2025-09-05T18:12:45.427744Z",
          "shell.execute_reply": "2025-09-05T18:12:45.426763Z",
          "shell.execute_reply.started": "2025-09-05T18:12:45.396493Z"
        },
        "id": "_WfB0snpr4rl",
        "trusted": true
      },
      "outputs": [],
      "source": [
        "df_raw.head()"
      ]
    },
    {
      "cell_type": "code",
      "execution_count": null,
      "metadata": {
        "execution": {
          "iopub.execute_input": "2025-09-05T18:12:48.963627Z",
          "iopub.status.busy": "2025-09-05T18:12:48.963263Z",
          "iopub.status.idle": "2025-09-05T18:12:48.977741Z",
          "shell.execute_reply": "2025-09-05T18:12:48.976629Z",
          "shell.execute_reply.started": "2025-09-05T18:12:48.963602Z"
        },
        "id": "nlLeC7EUr4rl",
        "trusted": true
      },
      "outputs": [],
      "source": [
        "df_raw.tail()"
      ]
    },
    {
      "cell_type": "code",
      "execution_count": null,
      "metadata": {
        "execution": {
          "iopub.execute_input": "2025-09-05T18:12:52.894208Z",
          "iopub.status.busy": "2025-09-05T18:12:52.893893Z",
          "iopub.status.idle": "2025-09-05T18:12:52.936389Z",
          "shell.execute_reply": "2025-09-05T18:12:52.935483Z",
          "shell.execute_reply.started": "2025-09-05T18:12:52.894187Z"
        },
        "id": "Dse8yKuAr4rl",
        "trusted": true
      },
      "outputs": [],
      "source": [
        "df_raw.info()"
      ]
    },
    {
      "cell_type": "code",
      "execution_count": null,
      "metadata": {
        "execution": {
          "iopub.execute_input": "2025-09-05T18:12:56.334115Z",
          "iopub.status.busy": "2025-09-05T18:12:56.333818Z",
          "iopub.status.idle": "2025-09-05T18:12:56.343049Z",
          "shell.execute_reply": "2025-09-05T18:12:56.34161Z",
          "shell.execute_reply.started": "2025-09-05T18:12:56.334094Z"
        },
        "id": "hqpRLCMrr4rl",
        "trusted": true
      },
      "outputs": [],
      "source": [
        "df_raw.dtypes"
      ]
    },
    {
      "cell_type": "code",
      "execution_count": null,
      "metadata": {
        "execution": {
          "iopub.execute_input": "2025-09-05T18:12:58.580332Z",
          "iopub.status.busy": "2025-09-05T18:12:58.580045Z",
          "iopub.status.idle": "2025-09-05T18:12:58.586629Z",
          "shell.execute_reply": "2025-09-05T18:12:58.585384Z",
          "shell.execute_reply.started": "2025-09-05T18:12:58.580304Z"
        },
        "id": "9Y4ox8hdr4rl",
        "trusted": true
      },
      "outputs": [],
      "source": [
        "df_raw.shape"
      ]
    },
    {
      "cell_type": "code",
      "execution_count": null,
      "metadata": {
        "execution": {
          "iopub.execute_input": "2025-09-05T18:13:07.723261Z",
          "iopub.status.busy": "2025-09-05T18:13:07.722961Z",
          "iopub.status.idle": "2025-09-05T18:13:07.74737Z",
          "shell.execute_reply": "2025-09-05T18:13:07.746662Z",
          "shell.execute_reply.started": "2025-09-05T18:13:07.723238Z"
        },
        "id": "Nzxck7cYr4rl",
        "trusted": true
      },
      "outputs": [],
      "source": [
        "df_raw.isnull().sum()"
      ]
    },
    {
      "cell_type": "code",
      "execution_count": null,
      "metadata": {
        "execution": {
          "iopub.execute_input": "2025-09-05T18:13:18.568835Z",
          "iopub.status.busy": "2025-09-05T18:13:18.568495Z",
          "iopub.status.idle": "2025-09-05T18:13:18.61009Z",
          "shell.execute_reply": "2025-09-05T18:13:18.60907Z",
          "shell.execute_reply.started": "2025-09-05T18:13:18.56881Z"
        },
        "id": "o8Lrxb_tr4rl",
        "trusted": true
      },
      "outputs": [],
      "source": [
        "df_raw.duplicated().sum()"
      ]
    },
    {
      "cell_type": "code",
      "execution_count": null,
      "metadata": {
        "execution": {
          "iopub.execute_input": "2025-09-05T18:13:38.783509Z",
          "iopub.status.busy": "2025-09-05T18:13:38.783143Z",
          "iopub.status.idle": "2025-09-05T18:13:38.816983Z",
          "shell.execute_reply": "2025-09-05T18:13:38.816039Z",
          "shell.execute_reply.started": "2025-09-05T18:13:38.783455Z"
        },
        "id": "7l6FEeuRr4rm",
        "trusted": true
      },
      "outputs": [],
      "source": [
        "df_raw.describe()"
      ]
    },
    {
      "cell_type": "code",
      "execution_count": null,
      "metadata": {
        "execution": {
          "iopub.execute_input": "2025-09-05T18:13:41.980028Z",
          "iopub.status.busy": "2025-09-05T18:13:41.979676Z",
          "iopub.status.idle": "2025-09-05T18:13:41.986072Z",
          "shell.execute_reply": "2025-09-05T18:13:41.985321Z",
          "shell.execute_reply.started": "2025-09-05T18:13:41.980002Z"
        },
        "id": "-DwpUr4br4rm",
        "trusted": true
      },
      "outputs": [],
      "source": [
        "df_raw.columns"
      ]
    },
    {
      "cell_type": "markdown",
      "metadata": {
        "id": "gOBhjUi6uRBK"
      },
      "source": [
        "# Salvar como tabela no Bigquery"
      ]
    },
    {
      "cell_type": "code",
      "execution_count": null,
      "metadata": {
        "id": "CnNnc1JwuRx7"
      },
      "outputs": [],
      "source": [
        "df_raw.to_gbq(\n",
        "    destination_table=f\"{dataset_id}.{tabela_name}_refined\",  # Exemplo: 'meu_dataset.minha_tabela'\n",
        "    project_id=project_id,\n",
        "    if_exists='replace'\n",
        ")\n"
      ]
    },
    {
      "cell_type": "markdown",
      "metadata": {
        "id": "AoO8Q_3Ew0GG"
      },
      "source": [
        "# Carregar os dados da refined"
      ]
    },
    {
      "cell_type": "code",
      "execution_count": null,
      "metadata": {
        "id": "j7G8IGXGwzxq"
      },
      "outputs": [],
      "source": [
        "df = pd.read_gbq(f\"SELECT * FROM {dataset_id}.{tabela_name}_refined\", project_id=project_id, dialect='standard')\n"
      ]
    },
    {
      "cell_type": "markdown",
      "metadata": {
        "id": "hsdIsg66r4rm"
      },
      "source": [
        "## Data visualizations"
      ]
    },
    {
      "cell_type": "code",
      "execution_count": null,
      "metadata": {
        "execution": {
          "iopub.execute_input": "2025-09-05T18:14:41.217516Z",
          "iopub.status.busy": "2025-09-05T18:14:41.216536Z",
          "iopub.status.idle": "2025-09-05T18:14:41.655796Z",
          "shell.execute_reply": "2025-09-05T18:14:41.654845Z",
          "shell.execute_reply.started": "2025-09-05T18:14:41.217489Z"
        },
        "id": "XIlkPtKlr4rm",
        "trusted": true
      },
      "outputs": [],
      "source": [
        "plt.figure(figsize=(10,6))\n",
        "sns.barplot(data=df, x=\"Year\", y=\"Sales_Volume\", estimator=\"sum\", ci=None)\n",
        "plt.title(\"Total de volume de vendas por ano\", fontsize=14, weight=\"bold\")\n",
        "plt.ylabel(\"Total de vendas\")\n",
        "plt.xlabel(\"Anos\")\n",
        "plt.xticks(rotation=45)\n",
        "plt.show()\n"
      ]
    },
    {
      "cell_type": "code",
      "execution_count": null,
      "metadata": {
        "execution": {
          "iopub.execute_input": "2025-09-05T18:14:55.218978Z",
          "iopub.status.busy": "2025-09-05T18:14:55.2186Z",
          "iopub.status.idle": "2025-09-05T18:14:55.458847Z",
          "shell.execute_reply": "2025-09-05T18:14:55.457875Z",
          "shell.execute_reply.started": "2025-09-05T18:14:55.218952Z"
        },
        "id": "PoRXeTPfr4rm",
        "trusted": true
      },
      "outputs": [],
      "source": [
        "plt.figure(figsize=(10,6))\n",
        "sns.countplot(data=df, x=\"Region\", order=df[\"Region\"].value_counts().index)\n",
        "plt.title(\"Distribuição regional de vendas dos carros\", fontsize=14, weight=\"bold\")\n",
        "plt.ylabel(\"Registros\")\n",
        "plt.xlabel(\"Região\")\n",
        "plt.xticks(rotation=45)\n",
        "plt.show()"
      ]
    },
    {
      "cell_type": "code",
      "execution_count": null,
      "metadata": {
        "execution": {
          "iopub.execute_input": "2025-09-05T18:14:59.808802Z",
          "iopub.status.busy": "2025-09-05T18:14:59.808446Z",
          "iopub.status.idle": "2025-09-05T18:15:00.307508Z",
          "shell.execute_reply": "2025-09-05T18:15:00.306764Z",
          "shell.execute_reply.started": "2025-09-05T18:14:59.808779Z"
        },
        "id": "4YQpPiCpr4rm",
        "trusted": true
      },
      "outputs": [],
      "source": [
        "plt.figure(figsize=(10,6))\n",
        "sns.histplot(df[\"Price_USD\"], bins=30, kde=True)\n",
        "plt.title(\"Distribuição de preços dos carros\", fontsize=14, weight=\"bold\")\n",
        "plt.xlabel(\"Preços (USD)\")\n",
        "plt.ylabel(\"Freqüência\")\n",
        "plt.show()\n"
      ]
    },
    {
      "cell_type": "code",
      "execution_count": null,
      "metadata": {
        "execution": {
          "iopub.execute_input": "2025-09-05T18:15:05.33054Z",
          "iopub.status.busy": "2025-09-05T18:15:05.330206Z",
          "iopub.status.idle": "2025-09-05T18:15:05.578621Z",
          "shell.execute_reply": "2025-09-05T18:15:05.57768Z",
          "shell.execute_reply.started": "2025-09-05T18:15:05.330517Z"
        },
        "id": "IF1cu30Mr4rm",
        "trusted": true
      },
      "outputs": [],
      "source": [
        "plt.figure(figsize=(10,6))\n",
        "sns.countplot(data=df, x=\"Fuel_Type\", hue=\"Transmission\")\n",
        "plt.title(\"Tipo de combustível vs Tipo de transmissão\", fontsize=14, weight=\"bold\")\n",
        "plt.xlabel(\"Tipo de combustível\")\n",
        "plt.ylabel(\"Total\")\n",
        "plt.show()\n"
      ]
    },
    {
      "cell_type": "code",
      "execution_count": null,
      "metadata": {
        "execution": {
          "iopub.execute_input": "2025-09-05T18:15:14.662618Z",
          "iopub.status.busy": "2025-09-05T18:15:14.662254Z",
          "iopub.status.idle": "2025-09-05T18:15:16.693092Z",
          "shell.execute_reply": "2025-09-05T18:15:16.692042Z",
          "shell.execute_reply.started": "2025-09-05T18:15:14.662592Z"
        },
        "id": "Hpnofwo1r4rm",
        "trusted": true
      },
      "outputs": [],
      "source": [
        "plt.figure(figsize=(10,6))\n",
        "sns.scatterplot(data=df, x=\"Mileage_KM\", y=\"Price_USD\", hue=\"Sales_Classification\", alpha=0.6)\n",
        "plt.title(\"KM vs Cor by Classificacao da venda\", fontsize=14, weight=\"bold\")\n",
        "plt.xlabel(\"KM\")\n",
        "plt.ylabel(\"Preço (USD)\")\n",
        "plt.ylim(0, df[\"Price_USD\"].quantile(0.95))\n",
        "plt.show()\n"
      ]
    },
    {
      "cell_type": "code",
      "execution_count": null,
      "metadata": {
        "execution": {
          "iopub.execute_input": "2025-09-05T18:15:19.697173Z",
          "iopub.status.busy": "2025-09-05T18:15:19.696861Z",
          "iopub.status.idle": "2025-09-05T18:15:19.865084Z",
          "shell.execute_reply": "2025-09-05T18:15:19.864173Z",
          "shell.execute_reply.started": "2025-09-05T18:15:19.69715Z"
        },
        "id": "C_kkxotGr4rm",
        "trusted": true
      },
      "outputs": [],
      "source": [
        "plt.figure(figsize=(8,6))\n",
        "sns.countplot(data=df, x=\"Sales_Classification\", order=df[\"Sales_Classification\"].value_counts().index)\n",
        "plt.title(\"Vendas de carro e classificacao Breakdown\", fontsize=14, weight=\"bold\")\n",
        "plt.ylabel(\"Quantidades\")\n",
        "plt.xlabel(\"Classificacao da vendas\")\n",
        "plt.show()\n"
      ]
    },
    {
      "cell_type": "code",
      "execution_count": null,
      "metadata": {
        "execution": {
          "iopub.execute_input": "2025-09-05T18:15:28.863312Z",
          "iopub.status.busy": "2025-09-05T18:15:28.862971Z",
          "iopub.status.idle": "2025-09-05T18:15:29.139738Z",
          "shell.execute_reply": "2025-09-05T18:15:29.138767Z",
          "shell.execute_reply.started": "2025-09-05T18:15:28.863288Z"
        },
        "id": "MoI1oME8r4rm",
        "trusted": true
      },
      "outputs": [],
      "source": [
        "plt.figure(figsize=(10,6))\n",
        "corr = df[[\"Year\", \"Engine_Size_L\", \"Mileage_KM\", \"Price_USD\", \"Sales_Volume\"]].corr()\n",
        "sns.heatmap(corr, annot=True, cmap=\"Blues\", fmt=\".2f\")\n",
        "plt.title(\"Mapa de calor de correlação de recursos numéricos\", fontsize=14, weight=\"bold\")\n",
        "plt.show()"
      ]
    },
    {
      "cell_type": "markdown",
      "metadata": {
        "id": "xnRxAzyXr4rm"
      },
      "source": [
        "## Predictive modeling"
      ]
    },
    {
      "cell_type": "code",
      "execution_count": null,
      "metadata": {
        "execution": {
          "iopub.execute_input": "2025-09-05T18:16:28.550071Z",
          "iopub.status.busy": "2025-09-05T18:16:28.549672Z",
          "iopub.status.idle": "2025-09-05T18:16:29.468925Z",
          "shell.execute_reply": "2025-09-05T18:16:29.468004Z",
          "shell.execute_reply.started": "2025-09-05T18:16:28.550049Z"
        },
        "id": "bTzvLqsBr4rm",
        "trusted": true
      },
      "outputs": [],
      "source": [
        "from sklearn.model_selection import train_test_split\n",
        "from sklearn.preprocessing import LabelEncoder\n",
        "from sklearn.metrics import accuracy_score\n",
        "from sklearn.linear_model import LogisticRegression\n",
        "from sklearn.tree import DecisionTreeClassifier\n",
        "from sklearn.ensemble import RandomForestClassifier, GradientBoostingClassifier, AdaBoostClassifier\n",
        "from sklearn.neighbors import KNeighborsClassifier\n",
        "from sklearn.svm import SVC\n",
        "from sklearn.naive_bayes import GaussianNB\n",
        "from xgboost import XGBClassifier"
      ]
    },
    {
      "cell_type": "code",
      "execution_count": null,
      "metadata": {
        "execution": {
          "iopub.execute_input": "2025-09-05T18:16:33.001322Z",
          "iopub.status.busy": "2025-09-05T18:16:33.000578Z",
          "iopub.status.idle": "2025-09-05T18:16:33.060776Z",
          "shell.execute_reply": "2025-09-05T18:16:33.059941Z",
          "shell.execute_reply.started": "2025-09-05T18:16:33.001263Z"
        },
        "id": "6hO3rPhYr4rm",
        "trusted": true
      },
      "outputs": [],
      "source": [
        "categorical_cols = [\"Model\", \"Region\", \"Color\", \"Fuel_Type\", \"Transmission\"]\n",
        "\n",
        "for col in categorical_cols:\n",
        "    encoder = LabelEncoder()\n",
        "\n",
        "    df[col] = encoder.fit_transform(df[col].astype(str))\n",
        "\n",
        "    mapping_df = pd.DataFrame({\n",
        "        col: encoder.classes_,                  # nomes originais (strings)\n",
        "        f\"{col}_encoded\": range(len(encoder.classes_))  # números que o LabelEncoder atribuiu\n",
        "    })\n",
        "\n",
        "    mapping_df.to_csv(f\"{col}_label_mapping.csv\", index=False)\n",
        "\n",
        "    table_label_id = f\"{project_id}.{dataset_id}.{col.lower()}_label_mapping\"\n",
        "    print(table_label_id)\n",
        "\n",
        "    mapping_df.to_gbq(\n",
        "        destination_table=table_label_id,\n",
        "        if_exists='replace'\n",
        "    )"
      ]
    },
    {
      "cell_type": "markdown",
      "metadata": {
        "id": "KsP2Ok9F2IPc"
      },
      "source": []
    },
    {
      "cell_type": "code",
      "execution_count": null,
      "metadata": {
        "execution": {
          "iopub.execute_input": "2025-09-05T18:16:37.388579Z",
          "iopub.status.busy": "2025-09-05T18:16:37.388247Z",
          "iopub.status.idle": "2025-09-05T18:16:37.398766Z",
          "shell.execute_reply": "2025-09-05T18:16:37.398019Z",
          "shell.execute_reply.started": "2025-09-05T18:16:37.388555Z"
        },
        "id": "0t2foB7_r4rm",
        "trusted": true
      },
      "outputs": [],
      "source": [
        "X = df.drop([\"Sales_Classification\",\"Sales_Volume\"], axis=1)\n",
        "y = df[\"Sales_Classification\"]"
      ]
    },
    {
      "cell_type": "code",
      "execution_count": null,
      "metadata": {
        "id": "8MuzDechNPr2"
      },
      "outputs": [],
      "source": [
        "X.columns"
      ]
    },
    {
      "cell_type": "code",
      "execution_count": null,
      "metadata": {
        "execution": {
          "iopub.execute_input": "2025-09-05T18:16:41.561874Z",
          "iopub.status.busy": "2025-09-05T18:16:41.56152Z",
          "iopub.status.idle": "2025-09-05T18:16:41.576612Z",
          "shell.execute_reply": "2025-09-05T18:16:41.57559Z",
          "shell.execute_reply.started": "2025-09-05T18:16:41.561849Z"
        },
        "id": "KyfUds8xr4rm",
        "trusted": true
      },
      "outputs": [],
      "source": [
        "if y.dtype == 'object' or y.dtype == 'category':\n",
        "    y = encoder.fit_transform(y)"
      ]
    },
    {
      "cell_type": "code",
      "execution_count": null,
      "metadata": {
        "execution": {
          "iopub.execute_input": "2025-09-05T18:16:46.057448Z",
          "iopub.status.busy": "2025-09-05T18:16:46.05708Z",
          "iopub.status.idle": "2025-09-05T18:16:46.091333Z",
          "shell.execute_reply": "2025-09-05T18:16:46.090336Z",
          "shell.execute_reply.started": "2025-09-05T18:16:46.05742Z"
        },
        "id": "33wakHW0r4rm",
        "trusted": true
      },
      "outputs": [],
      "source": [
        "X_train, X_test, y_train, y_test = train_test_split(\n",
        "    X, y, test_size=0.2, random_state=51, stratify=y\n",
        ")"
      ]
    },
    {
      "cell_type": "code",
      "execution_count": null,
      "metadata": {
        "id": "h2IIWyajr4rm",
        "vscode": {
          "languageId": "markdown"
        }
      },
      "outputs": [],
      "source": [
        "## Comparação de Modelos de Classificação para Vendas BMW"
      ]
    },
    {
      "cell_type": "code",
      "execution_count": null,
      "metadata": {
        "execution": {
          "iopub.execute_input": "2025-09-05T18:16:50.376844Z",
          "iopub.status.busy": "2025-09-05T18:16:50.376086Z",
          "iopub.status.idle": "2025-09-05T18:16:50.384233Z",
          "shell.execute_reply": "2025-09-05T18:16:50.383183Z",
          "shell.execute_reply.started": "2025-09-05T18:16:50.376807Z"
        },
        "id": "HR46kjpMr4rm",
        "trusted": true
      },
      "outputs": [],
      "source": [
        "models = {\n",
        "    \"Decision Tree\": DecisionTreeClassifier(),\n",
        "    \"Random Forest\": RandomForestClassifier(),\n",
        "    \"Gradient Boosting\": GradientBoostingClassifier(),\n",
        "    \"AdaBoost\": AdaBoostClassifier(),\n",
        "    \"KNN\": KNeighborsClassifier(),\n",
        "    \"SVM\": SVC(),\n",
        "    \"Naive Bayes\": GaussianNB(),\n",
        "    \"XGBoost\": XGBClassifier(use_label_encoder=False, eval_metric=\"mlogloss\"),\n",
        "    \"Logistic Regression\": LogisticRegression(max_iter=2000)\n",
        "}"
      ]
    },
    {
      "cell_type": "code",
      "execution_count": null,
      "metadata": {
        "execution": {
          "iopub.execute_input": "2025-09-05T18:16:54.699087Z",
          "iopub.status.busy": "2025-09-05T18:16:54.698765Z",
          "iopub.status.idle": "2025-09-05T18:17:31.723699Z",
          "shell.execute_reply": "2025-09-05T18:17:31.722943Z",
          "shell.execute_reply.started": "2025-09-05T18:16:54.699064Z"
        },
        "id": "QB6OzfOkr4rm",
        "trusted": true
      },
      "outputs": [],
      "source": [
        "results = []\n",
        "\n",
        "for name, model in models.items():\n",
        "    model.fit(X_train, y_train)\n",
        "    preds = model.predict(X_test)\n",
        "    acc = accuracy_score(y_test, preds) * 100\n",
        "    results.append((name, acc))"
      ]
    },
    {
      "cell_type": "code",
      "execution_count": null,
      "metadata": {
        "execution": {
          "iopub.execute_input": "2025-09-05T18:17:31.724904Z",
          "iopub.status.busy": "2025-09-05T18:17:31.724642Z",
          "iopub.status.idle": "2025-09-05T18:17:31.735428Z",
          "shell.execute_reply": "2025-09-05T18:17:31.734744Z",
          "shell.execute_reply.started": "2025-09-05T18:17:31.724884Z"
        },
        "id": "MNJweQHcr4rm",
        "trusted": true
      },
      "outputs": [],
      "source": [
        "results_df = pd.DataFrame(results, columns=[\"Model\", \"Accuracy (%)\"])\n",
        "print(results_df.sort_values(by=\"Accuracy (%)\", ascending=False).reset_index(drop=True))"
      ]
    },
    {
      "cell_type": "markdown",
      "metadata": {
        "id": "aLvmSaHur4rm"
      },
      "source": [
        "## Salvar o modelo em pkl"
      ]
    },
    {
      "cell_type": "code",
      "execution_count": null,
      "metadata": {
        "id": "GjqD0puhr4rm"
      },
      "outputs": [],
      "source": [
        "import joblib\n",
        "modelo_escolhido=\"Random Forest\"\n",
        "arquivo_modelo=\"modelo_bmw.pkl\"\n",
        "joblib.dump(models[modelo_escolhido], arquivo_modelo)"
      ]
    },
    {
      "cell_type": "markdown",
      "metadata": {
        "id": "UrTlC_0oCBHM"
      },
      "source": [
        "# Mover o modelo para o bucket"
      ]
    },
    {
      "cell_type": "code",
      "execution_count": null,
      "metadata": {
        "id": "GsSbqOBoCxuN"
      },
      "outputs": [],
      "source": [
        "bucket_name = \"gcs-raw-fiap-a2555e1b\""
      ]
    },
    {
      "cell_type": "markdown",
      "metadata": {
        "id": "aCdsbUa3CY48"
      },
      "source": [
        "### Backup do modelo anterior"
      ]
    },
    {
      "cell_type": "code",
      "execution_count": null,
      "metadata": {
        "id": "2KOq8n9IB_mj"
      },
      "outputs": [],
      "source": [
        "from google.cloud import storage\n",
        "from google.api_core.exceptions import NotFound\n",
        "\n",
        "def mover_arquivo(bucket_name, caminho_origem, caminho_destino):\n",
        "    client = storage.Client()\n",
        "    bucket = client.bucket(bucket_name)\n",
        "    blob_origem = bucket.blob(caminho_origem)\n",
        "\n",
        "    if not blob_origem.exists():\n",
        "        print(f\"Arquivo '{caminho_origem}' não encontrado no bucket '{bucket_name}'.\")\n",
        "        return\n",
        "\n",
        "    # Copia o arquivo para o novo local\n",
        "    bucket.copy_blob(blob_origem, bucket, caminho_destino)\n",
        "\n",
        "    # Remove o arquivo original\n",
        "    blob_origem.delete()\n",
        "\n",
        "    print(f\"Arquivo movido de {caminho_origem} para {caminho_destino}\")\n"
      ]
    },
    {
      "cell_type": "code",
      "execution_count": null,
      "metadata": {
        "id": "d_gyk8MDB4n7"
      },
      "outputs": [],
      "source": [
        "import time\n",
        "\n",
        "timestamp_segundos = int(time.time())\n",
        "\n",
        "mover_arquivo(\n",
        "    bucket_name,\n",
        "    f\"modelo/{modelo_escolhido}/model.pkl\",\n",
        "    f\"modelo/{modelo_escolhido}/bkp/model-{timestamp_segundos}.pkl\"\n",
        ")"
      ]
    },
    {
      "cell_type": "markdown",
      "metadata": {
        "id": "mQb9gkivDrL9"
      },
      "source": [
        "### Copiar o novo modelo para o bucket para ser usado."
      ]
    },
    {
      "cell_type": "code",
      "execution_count": null,
      "metadata": {
        "id": "3aQIPxyzr4rn"
      },
      "outputs": [],
      "source": [
        "from google.cloud import storage\n",
        "import os\n",
        "\n",
        "def mover_arquivo_local_para_bucket(bucket_name, caminho_local, caminho_bucket):\n",
        "    client = storage.Client()\n",
        "    bucket = client.bucket(bucket_name)\n",
        "    blob = bucket.blob(caminho_bucket)\n",
        "\n",
        "    blob.upload_from_filename(caminho_local)\n",
        "    print(f\"Arquivo '{caminho_local}' enviado para 'gs://{bucket_name}/{caminho_bucket}'.\")\n",
        "\n",
        "    os.remove(caminho_local)\n",
        "    print(f\"Arquivo local '{caminho_local}' removido.\")\n"
      ]
    },
    {
      "cell_type": "code",
      "execution_count": null,
      "metadata": {
        "id": "JrCgTAO3DqeZ"
      },
      "outputs": [],
      "source": [
        "mover_arquivo_local_para_bucket(\n",
        "    bucket_name,\n",
        "    arquivo_modelo,\n",
        "    f\"modelo/{modelo_escolhido}/model.pkl\"\n",
        ")"
      ]
    }
  ],
  "metadata": {
    "colab": {
      "name": "notebookda86cf4801",
      "provenance": []
    },
    "kaggle": {
      "accelerator": "none",
      "dataSources": [
        {
          "datasetId": 8207152,
          "sourceId": 12967575,
          "sourceType": "datasetVersion"
        }
      ],
      "dockerImageVersionId": 31089,
      "isGpuEnabled": false,
      "isInternetEnabled": false,
      "language": "python",
      "sourceType": "notebook"
    },
    "kernelspec": {
      "display_name": "venv",
      "language": "python",
      "name": "python3"
    },
    "language_info": {
      "codemirror_mode": {
        "name": "ipython",
        "version": 3
      },
      "file_extension": ".py",
      "mimetype": "text/x-python",
      "name": "python",
      "nbconvert_exporter": "python",
      "pygments_lexer": "ipython3",
      "version": "3.13.7"
    }
  },
  "nbformat": 4,
  "nbformat_minor": 0
}
